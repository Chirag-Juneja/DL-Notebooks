{
 "cells": [
  {
   "cell_type": "markdown",
   "metadata": {},
   "source": [
    "# Neural Netowrks"
   ]
  },
  {
   "cell_type": "markdown",
   "metadata": {},
   "source": [
    "## Anatomy of neural netowrk\n",
    "\n",
    "Training a neural network needs following objects\n",
    "\n",
    "* Layers\n",
    "* Input Data\n",
    "* Loss Function\n",
    "* Optimizer"
   ]
  },
  {
   "cell_type": "markdown",
   "metadata": {},
   "source": [
    "### Layers\n",
    "\n",
    "Layers are fundamental data strucutre in neural networks. A layer is a data processing module that takes as iput one or more tensors and that outputs one or more tesnsors.\n",
    "\n",
    "Layers compatibility resers specifically to the fact that every layer will only accept iput tensor of a certain shape and will return output tensor of a certain shape.\n",
    "\n",
    "The following layer only accepts as input 2D tensors where the first dimension is 784 (axis 0, the batch dimension is unspecified and thus any value would be accepted). This layer will return a tensor where the first dimension has been transformed to be 32.\n",
    "Thus this layer can only be connected to a downstream layer that expects 32 dimensional vectors as input. When using keras, this is taken care automatically because the layers you add to modles are dynamically built to match the shape of the incoming layer."
   ]
  },
  {
   "cell_type": "code",
   "execution_count": 2,
   "metadata": {},
   "outputs": [],
   "source": [
    "from tensorflow.keras import layers\n",
    "layer = layers.Dense(32, input_shape=(784,))"
   ]
  },
  {
   "cell_type": "code",
   "execution_count": 3,
   "metadata": {},
   "outputs": [],
   "source": [
    "from tensorflow.keras import models\n",
    "from tensorflow.keras import layers\n",
    "\n",
    "model = models.Sequential()\n",
    "model.add(layers.Dense(32, input_shape=(784,)))\n",
    "model.add(layers.Dense(32))"
   ]
  },
  {
   "cell_type": "markdown",
   "metadata": {},
   "source": [
    "### Models\n",
    "\n",
    "A deep learning model is a directed, acyclic graph of layers. The most common instance is a linear stack of layers, mapping a single input to a single output. Some others include:\n",
    "\n",
    "* Two branch networks\n",
    "* Multihead networks\n",
    "* Inception blocks\n",
    "\n",
    "The topology of a network defines a hypothesis space, constraining space of possibilitites to a specific series of tensor operations.Picking the right network architecutre is more an art than a science."
   ]
  },
  {
   "cell_type": "markdown",
   "metadata": {},
   "source": [
    "### Loss Function and Optimizers\n",
    "\n",
    "A neural network that has multiple outputs may have multiple Loss functions (one per output). But the gradient-descent process must be based on a single scalar loss value; so, for multiloss networks, all losses are combined (via averaging) into a single scalar.\n"
   ]
  }
 ],
 "metadata": {
  "kernelspec": {
   "display_name": "Python 3",
   "language": "python",
   "name": "python3"
  },
  "language_info": {
   "codemirror_mode": {
    "name": "ipython",
    "version": 3
   },
   "file_extension": ".py",
   "mimetype": "text/x-python",
   "name": "python",
   "nbconvert_exporter": "python",
   "pygments_lexer": "ipython3",
   "version": "3.8.3"
  }
 },
 "nbformat": 4,
 "nbformat_minor": 4
}
