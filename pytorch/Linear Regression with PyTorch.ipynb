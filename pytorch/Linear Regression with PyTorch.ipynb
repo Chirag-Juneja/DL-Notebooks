{
 "cells": [
  {
   "cell_type": "markdown",
   "id": "42fe9509",
   "metadata": {},
   "source": [
    "# Linear Regression with PyTorch"
   ]
  },
  {
   "cell_type": "code",
   "execution_count": 1,
   "id": "0c8969e1",
   "metadata": {},
   "outputs": [],
   "source": [
    "import torch\n",
    "\n",
    "import numpy as np\n",
    "import matplotlib.pyplot as plt\n",
    "\n",
    "import torch.nn as nn"
   ]
  },
  {
   "cell_type": "markdown",
   "id": "67f3e132",
   "metadata": {},
   "source": [
    "## Creating Linear data with noise"
   ]
  },
  {
   "cell_type": "code",
   "execution_count": 2,
   "id": "27c8d1be",
   "metadata": {},
   "outputs": [],
   "source": [
    "X = torch.linspace(1,50,50).reshape(-1, 1)"
   ]
  },
  {
   "cell_type": "code",
   "execution_count": 3,
   "id": "0009ecc8",
   "metadata": {},
   "outputs": [
    {
     "data": {
      "text/plain": [
       "(tensor([[46.],\n",
       "         [47.],\n",
       "         [48.],\n",
       "         [49.],\n",
       "         [50.]]),\n",
       " 50)"
      ]
     },
     "execution_count": 3,
     "metadata": {},
     "output_type": "execute_result"
    }
   ],
   "source": [
    "X[45:50],len(X)"
   ]
  },
  {
   "cell_type": "code",
   "execution_count": 4,
   "id": "9be1085a",
   "metadata": {},
   "outputs": [],
   "source": [
    "torch.manual_seed(71)\n",
    "e = torch.randint(-8, 9, (50,1), dtype=torch.float)"
   ]
  },
  {
   "cell_type": "code",
   "execution_count": 5,
   "id": "42622cb7",
   "metadata": {},
   "outputs": [
    {
     "data": {
      "text/plain": [
       "(tensor([[ 6.],\n",
       "         [-8.],\n",
       "         [-3.],\n",
       "         [-7.],\n",
       "         [-2.]]),\n",
       " 50)"
      ]
     },
     "execution_count": 5,
     "metadata": {},
     "output_type": "execute_result"
    }
   ],
   "source": [
    "e[45:50],len(e)"
   ]
  },
  {
   "cell_type": "code",
   "execution_count": 6,
   "id": "18f9a353",
   "metadata": {},
   "outputs": [],
   "source": [
    "y = 2*X + 1 + e "
   ]
  },
  {
   "cell_type": "code",
   "execution_count": 7,
   "id": "6647e7bf",
   "metadata": {},
   "outputs": [
    {
     "data": {
      "text/plain": [
       "(tensor([[99.],\n",
       "         [87.],\n",
       "         [94.],\n",
       "         [92.],\n",
       "         [99.]]),\n",
       " 50)"
      ]
     },
     "execution_count": 7,
     "metadata": {},
     "output_type": "execute_result"
    }
   ],
   "source": [
    "y[45:50],len(y)"
   ]
  },
  {
   "cell_type": "code",
   "execution_count": 8,
   "id": "ca7765f6",
   "metadata": {},
   "outputs": [
    {
     "data": {
      "text/plain": [
       "<matplotlib.collections.PathCollection at 0x7fa7874c06d0>"
      ]
     },
     "execution_count": 8,
     "metadata": {},
     "output_type": "execute_result"
    },
    {
     "data": {
      "image/png": "[encoded data removed]",
      "text/plain": [
       "<Figure size 432x288 with 1 Axes>"
      ]
     },
     "metadata": {
      "needs_background": "light"
     },
     "output_type": "display_data"
    }
   ],
   "source": [
    "plt.scatter(X.numpy(),y.numpy())"
   ]
  },
  {
   "cell_type": "markdown",
   "id": "1cc8f9dd",
   "metadata": {},
   "source": [
    "## Linear layer"
   ]
  },
  {
   "cell_type": "code",
   "execution_count": 9,
   "id": "cdd5211f",
   "metadata": {},
   "outputs": [
    {
     "data": {
      "text/plain": [
       "(Parameter containing:\n",
       " tensor([[0.1060]], requires_grad=True),\n",
       " Parameter containing:\n",
       " tensor([0.9638], requires_grad=True))"
      ]
     },
     "execution_count": 9,
     "metadata": {},
     "output_type": "execute_result"
    }
   ],
   "source": [
    "torch.manual_seed(59)\n",
    "\n",
    "model = nn.Linear(in_features=1, out_features=1)\n",
    "\n",
    "model.weight, model.bias"
   ]
  },
  {
   "cell_type": "markdown",
   "id": "08b9b1a5",
   "metadata": {},
   "source": [
    "## Model"
   ]
  },
  {
   "cell_type": "code",
   "execution_count": 10,
   "id": "e5456bde",
   "metadata": {},
   "outputs": [],
   "source": [
    "class Model(nn.Module):\n",
    "    def __init__(self, in_features, out_features):\n",
    "        super().__init__()\n",
    "        self.linear = nn.Linear(in_features, out_features)\n",
    "    \n",
    "    def forward(self, x):\n",
    "        y_pred = self.linear(x)\n",
    "        return y_pred"
   ]
  },
  {
   "cell_type": "code",
   "execution_count": 11,
   "id": "5c19248b",
   "metadata": {},
   "outputs": [
    {
     "data": {
      "text/plain": [
       "(Parameter containing:\n",
       " tensor([[0.1060]], requires_grad=True),\n",
       " Parameter containing:\n",
       " tensor([0.9638], requires_grad=True))"
      ]
     },
     "execution_count": 11,
     "metadata": {},
     "output_type": "execute_result"
    }
   ],
   "source": [
    "torch.manual_seed(59)\n",
    "\n",
    "model = Model(1,1)\n",
    "\n",
    "model.linear.weight, model.linear.bias"
   ]
  },
  {
   "cell_type": "markdown",
   "id": "9d520007",
   "metadata": {},
   "source": [
    "### Model Parameters"
   ]
  },
  {
   "cell_type": "code",
   "execution_count": 12,
   "id": "c828085b",
   "metadata": {},
   "outputs": [
    {
     "name": "stdout",
     "output_type": "stream",
     "text": [
      "linear.weight \t 0.10597813129425049\n",
      "linear.bias \t 0.9637961387634277\n"
     ]
    }
   ],
   "source": [
    "for name, param in model.named_parameters():\n",
    "    print(name, '\\t', param.item())"
   ]
  },
  {
   "cell_type": "code",
   "execution_count": 13,
   "id": "6c91a3d0",
   "metadata": {},
   "outputs": [
    {
     "data": {
      "text/plain": [
       "tensor([1.1758], grad_fn=<AddBackward0>)"
      ]
     },
     "execution_count": 13,
     "metadata": {},
     "output_type": "execute_result"
    }
   ],
   "source": [
    "x = torch.tensor([2.0])\n",
    "model.forward(x)"
   ]
  },
  {
   "cell_type": "code",
   "execution_count": 14,
   "id": "6a6666c7",
   "metadata": {},
   "outputs": [],
   "source": [
    "x1 = np.linspace(0., 50., 50,dtype=np.float64).reshape(-1,1)\n",
    "y1 = model.forward(torch.tensor(x1,dtype=torch.float))"
   ]
  },
  {
   "cell_type": "code",
   "execution_count": 15,
   "id": "40c171ca",
   "metadata": {},
   "outputs": [
    {
     "data": {
      "text/plain": [
       "<matplotlib.collections.PathCollection at 0x7fa7873bb8e0>"
      ]
     },
     "execution_count": 15,
     "metadata": {},
     "output_type": "execute_result"
    },
    {
     "data": {
      "image/png": "[encoded data removed]",
      "text/plain": [
       "<Figure size 432x288 with 1 Axes>"
      ]
     },
     "metadata": {
      "needs_background": "light"
     },
     "output_type": "display_data"
    }
   ],
   "source": [
    "plt.plot(x1, y1.detach().numpy(), 'r')\n",
    "plt.scatter(X.numpy(), y.numpy())"
   ]
  },
  {
   "cell_type": "markdown",
   "id": "179e5842",
   "metadata": {},
   "source": [
    "## Loss function"
   ]
  },
  {
   "cell_type": "code",
   "execution_count": 16,
   "id": "6be14507",
   "metadata": {},
   "outputs": [],
   "source": [
    "criterion = nn.MSELoss()"
   ]
  },
  {
   "cell_type": "markdown",
   "id": "6d396cc1",
   "metadata": {},
   "source": [
    "## Optimizer"
   ]
  },
  {
   "cell_type": "code",
   "execution_count": 17,
   "id": "6de0b60e",
   "metadata": {},
   "outputs": [],
   "source": [
    "optimizer = torch.optim.SGD(model.parameters(), lr=0.001) # Stochastic gradient descent "
   ]
  },
  {
   "cell_type": "markdown",
   "id": "d1edb60a",
   "metadata": {},
   "source": [
    "## Training"
   ]
  },
  {
   "cell_type": "code",
   "execution_count": 18,
   "id": "3f9df674",
   "metadata": {},
   "outputs": [
    {
     "name": "stdout",
     "output_type": "stream",
     "text": [
      "epoch 1 loss:3057.216796875 weight: 0.10597813129425049 bias: 0.9637961387634277\n",
      "epoch 2 loss:1588.5311279296875 weight: 3.334900379180908 bias: 1.0604636669158936\n",
      "epoch 3 loss:830.30029296875 weight: 1.014832615852356 bias: 0.9922628402709961\n",
      "epoch 4 loss:438.8524169921875 weight: 2.6817996501922607 bias: 1.0425218343734741\n",
      "epoch 5 loss:236.7615203857422 weight: 1.4840211868286133 bias: 1.0076650381088257\n",
      "epoch 6 loss:132.4291229248047 weight: 2.3446059226989746 bias: 1.0339646339416504\n",
      "epoch 7 loss:78.56572723388672 weight: 1.7262253761291504 bias: 1.0163217782974243\n",
      "epoch 8 loss:50.75775909423828 weight: 2.170504093170166 bias: 1.0302516222000122\n",
      "epoch 9 loss:36.4012336730957 weight: 1.8512457609176636 bias: 1.0214954614639282\n",
      "epoch 10 loss:28.989229202270508 weight: 2.0806007385253906 bias: 1.029038906097412\n",
      "epoch 11 loss:25.162382125854492 weight: 1.9157683849334717 bias: 1.0248701572418213\n",
      "epoch 12 loss:23.186473846435547 weight: 2.034165620803833 bias: 1.0291162729263306\n",
      "epoch 13 loss:22.166126251220703 weight: 1.9490584135055542 bias: 1.027315616607666\n",
      "epoch 14 loss:21.639110565185547 weight: 2.010172128677368 bias: 1.0298590660095215\n",
      "epoch 15 loss:21.366771697998047 weight: 1.9662237167358398 bias: 1.0292805433273315\n",
      "epoch 16 loss:21.22591781616211 weight: 1.997764229774475 bias: 1.030944585800171\n",
      "epoch 17 loss:21.15294647216797 weight: 1.9750648736953735 bias: 1.0309966802597046\n",
      "epoch 18 loss:21.115009307861328 weight: 1.991337537765503 bias: 1.032206416130066\n",
      "epoch 19 loss:21.095176696777344 weight: 1.9796085357666016 bias: 1.0325838327407837\n",
      "epoch 20 loss:21.084684371948242 weight: 1.9879988431930542 bias: 1.0335586071014404\n",
      "epoch 21 loss:21.07901382446289 weight: 1.981933355331421 bias: 1.034103512763977\n",
      "epoch 22 loss:21.075830459594727 weight: 1.9862544536590576 bias: 1.034956693649292\n",
      "epoch 23 loss:21.073938369750977 weight: 1.9831126928329468 bias: 1.0355877876281738\n",
      "epoch 24 loss:21.07270050048828 weight: 1.9853330850601196 bias: 1.0363779067993164\n",
      "epoch 25 loss:21.071819305419922 weight: 1.9837009906768799 bias: 1.037053108215332\n",
      "epoch 26 loss:21.07110595703125 weight: 1.9848365783691406 bias: 1.037810206413269\n",
      "epoch 27 loss:21.070486068725586 weight: 1.9839837551116943 bias: 1.0385079383850098\n",
      "epoch 28 loss:21.069913864135742 weight: 1.9845597743988037 bias: 1.039247751235962\n",
      "epoch 29 loss:21.069368362426758 weight: 1.9841090440750122 bias: 1.0399566888809204\n",
      "epoch 30 loss:21.068838119506836 weight: 1.9843961000442505 bias: 1.0406872034072876\n",
      "epoch 31 loss:21.068307876586914 weight: 1.984152913093567 bias: 1.0414016246795654\n",
      "epoch 32 loss:21.067781448364258 weight: 1.9842908382415771 bias: 1.042127013206482\n",
      "epoch 33 loss:21.0672607421875 weight: 1.9841549396514893 bias: 1.0428439378738403\n",
      "epoch 34 loss:21.066740036010742 weight: 1.9842157363891602 bias: 1.043566346168518\n",
      "epoch 35 loss:21.066225051879883 weight: 1.9841355085372925 bias: 1.0442842245101929\n",
      "epoch 36 loss:21.06570816040039 weight: 1.9841564893722534 bias: 1.0450047254562378\n",
      "epoch 37 loss:21.065187454223633 weight: 1.9841045141220093 bias: 1.0457227230072021\n",
      "epoch 38 loss:21.064668655395508 weight: 1.9841052293777466 bias: 1.046441912651062\n",
      "epoch 39 loss:21.064157485961914 weight: 1.9840680360794067 bias: 1.0471596717834473\n",
      "epoch 40 loss:21.063636779785156 weight: 1.984058141708374 bias: 1.0478779077529907\n",
      "epoch 41 loss:21.063125610351562 weight: 1.984028697013855 bias: 1.0485951900482178\n",
      "epoch 42 loss:21.062606811523438 weight: 1.9840131998062134 bias: 1.0493125915527344\n",
      "epoch 43 loss:21.062095642089844 weight: 1.98398756980896 bias: 1.0500292778015137\n",
      "epoch 44 loss:21.06157684326172 weight: 1.9839695692062378 bias: 1.0507458448410034\n",
      "epoch 45 loss:21.06106948852539 weight: 1.9839458465576172 bias: 1.051461935043335\n",
      "epoch 46 loss:21.06055450439453 weight: 1.9839262962341309 bias: 1.0521777868270874\n",
      "epoch 47 loss:21.060043334960938 weight: 1.9839037656784058 bias: 1.0528931617736816\n",
      "epoch 48 loss:21.059532165527344 weight: 1.9838833808898926 bias: 1.0536082983016968\n",
      "epoch 49 loss:21.05901336669922 weight: 1.9838614463806152 bias: 1.0543230772018433\n",
      "epoch 50 loss:21.058509826660156 weight: 1.9838409423828125 bias: 1.055037498474121\n"
     ]
    }
   ],
   "source": [
    "epochs = 50\n",
    "losses = []\n",
    "\n",
    "for i in range(epochs):\n",
    "    i = i + 1\n",
    "    \n",
    "    y_pred = model.forward(X)\n",
    "    \n",
    "    loss = criterion(y_pred, y)\n",
    "    \n",
    "    losses.append(loss)\n",
    "    \n",
    "    print(f\"epoch {i} loss:{loss.item()} weight: {model.linear.weight.item()} bias: {model.linear.bias.item()}\")\n",
    "    \n",
    "    optimizer.zero_grad()\n",
    "    \n",
    "    loss.backward()\n",
    "    optimizer.step()"
   ]
  },
  {
   "cell_type": "code",
   "execution_count": 19,
   "id": "20dcf038",
   "metadata": {},
   "outputs": [
    {
     "data": {
      "text/plain": [
       "[<matplotlib.lines.Line2D at 0x7fa78739ad90>]"
      ]
     },
     "execution_count": 19,
     "metadata": {},
     "output_type": "execute_result"
    },
    {
     "data": {
      "image/png": "[encoded data removed]",
      "text/plain": [
       "<Figure size 432x288 with 1 Axes>"
      ]
     },
     "metadata": {
      "needs_background": "light"
     },
     "output_type": "display_data"
    }
   ],
   "source": [
    "plt.plot(losses)"
   ]
  },
  {
   "cell_type": "code",
   "execution_count": 20,
   "id": "63e5e237",
   "metadata": {},
   "outputs": [],
   "source": [
    "x = np.linspace(0., 50., 50, dtype=np.float64).reshape(-1,1)\n",
    "y_pred = model.forward(torch.tensor(x, dtype=torch.float))"
   ]
  },
  {
   "cell_type": "code",
   "execution_count": 21,
   "id": "45448368",
   "metadata": {},
   "outputs": [
    {
     "data": {
      "text/plain": [
       "<matplotlib.collections.PathCollection at 0x7fa786b01400>"
      ]
     },
     "execution_count": 21,
     "metadata": {},
     "output_type": "execute_result"
    },
    {
     "data": {
      "image/png": "[encoded data removed]",
      "text/plain": [
       "<Figure size 432x288 with 1 Axes>"
      ]
     },
     "metadata": {
      "needs_background": "light"
     },
     "output_type": "display_data"
    }
   ],
   "source": [
    "plt.plot(x,y_pred.detach().numpy(),'r')\n",
    "plt.scatter(X.numpy(),y.numpy())"
   ]
  }
 ],
 "metadata": {
  "kernelspec": {
   "display_name": "Python 3",
   "language": "python",
   "name": "python3"
  },
  "language_info": {
   "codemirror_mode": {
    "name": "ipython",
    "version": 3
   },
   "file_extension": ".py",
   "mimetype": "text/x-python",
   "name": "python",
   "nbconvert_exporter": "python",
   "pygments_lexer": "ipython3",
   "version": "3.8.8"
  }
 },
 "nbformat": 4,
 "nbformat_minor": 5
}
