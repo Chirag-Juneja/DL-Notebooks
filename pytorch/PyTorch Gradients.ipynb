{
 "cells": [
  {
   "cell_type": "markdown",
   "id": "68023363",
   "metadata": {},
   "source": [
    "# PyTorch Gradients"
   ]
  },
  {
   "cell_type": "code",
   "execution_count": 1,
   "id": "dd97a9ff",
   "metadata": {},
   "outputs": [],
   "source": [
    "import torch"
   ]
  },
  {
   "cell_type": "code",
   "execution_count": 2,
   "id": "f1b2b4df",
   "metadata": {},
   "outputs": [],
   "source": [
    "x = torch.tensor(2.0,requires_grad=True) # sets computational tracking on the tensor"
   ]
  },
  {
   "cell_type": "markdown",
   "id": "f9c94f33",
   "metadata": {},
   "source": [
    "## Back-propogation"
   ]
  },
  {
   "cell_type": "code",
   "execution_count": 3,
   "id": "543824fb",
   "metadata": {},
   "outputs": [],
   "source": [
    "y = 2*x**4 + x**3 + 3*x**2 + 5*x + 1"
   ]
  },
  {
   "cell_type": "code",
   "execution_count": 4,
   "id": "25597545",
   "metadata": {},
   "outputs": [
    {
     "data": {
      "text/plain": [
       "tensor(63., grad_fn=<AddBackward0>)"
      ]
     },
     "execution_count": 4,
     "metadata": {},
     "output_type": "execute_result"
    }
   ],
   "source": [
    "y"
   ]
  },
  {
   "cell_type": "code",
   "execution_count": 5,
   "id": "4b53c332",
   "metadata": {},
   "outputs": [],
   "source": [
    "y.backward()"
   ]
  },
  {
   "cell_type": "code",
   "execution_count": 6,
   "id": "829f662c",
   "metadata": {},
   "outputs": [
    {
     "data": {
      "text/plain": [
       "tensor(93.)"
      ]
     },
     "execution_count": 6,
     "metadata": {},
     "output_type": "execute_result"
    }
   ],
   "source": [
    "x.grad # gradient of y at x=2"
   ]
  },
  {
   "cell_type": "markdown",
   "id": "f7bd4166",
   "metadata": {},
   "source": [
    "## Ploting the Tangent"
   ]
  },
  {
   "cell_type": "code",
   "execution_count": 7,
   "id": "fc640437",
   "metadata": {},
   "outputs": [],
   "source": [
    "def gradient(x):\n",
    "    y = 2*x**4 + x**3 + 3*x**2 + 5*x + 1 #equation\n",
    "    y.backward()\n",
    "    return y, x.grad"
   ]
  },
  {
   "cell_type": "code",
   "execution_count": 8,
   "id": "cc768706",
   "metadata": {},
   "outputs": [],
   "source": [
    "_x, _y, _grad=[], [], []\n",
    "for i in range(0,100):\n",
    "    x = torch.tensor(float(i),requires_grad=True)\n",
    "    y, grad = gradient(x)\n",
    "    _y.append(y.item())\n",
    "    _x.append(x.item())\n",
    "    _grad.append(grad.item())"
   ]
  },
  {
   "cell_type": "code",
   "execution_count": 9,
   "id": "cb55eab3",
   "metadata": {},
   "outputs": [],
   "source": [
    "import matplotlib.pyplot as plt"
   ]
  },
  {
   "cell_type": "code",
   "execution_count": 10,
   "id": "067bede2",
   "metadata": {},
   "outputs": [
    {
     "data": {
      "text/plain": [
       "Text(0.5, 1.0, 'Gradient')"
      ]
     },
     "execution_count": 10,
     "metadata": {},
     "output_type": "execute_result"
    },
    {
     "data": {
      "image/png": "[encoded data removed]",
      "text/plain": [
       "<Figure size 432x288 with 1 Axes>"
      ]
     },
     "metadata": {
      "needs_background": "light"
     },
     "output_type": "display_data"
    }
   ],
   "source": [
    "index=60\n",
    "tangent =[] \n",
    "\n",
    "c = _y[index]-_x[index]*_grad[index] # y=mx+c equation of tangent\n",
    "\n",
    "for i in range(0,100):\n",
    "    tangent.append(_grad[index]*i+c) # y of points on the tangent\n",
    "\n",
    "plt.plot(_x, _y)\n",
    "plt.plot(_x, tangent)\n",
    "plt.title(\"Gradient\")"
   ]
  },
  {
   "cell_type": "markdown",
   "id": "08880d5f",
   "metadata": {},
   "source": [
    "## Chain Rule"
   ]
  },
  {
   "cell_type": "code",
   "execution_count": 11,
   "id": "5fd752dc",
   "metadata": {},
   "outputs": [],
   "source": [
    "x = torch.tensor([[1.,2.,3.],[1.,2.,3.]], requires_grad=True) "
   ]
  },
  {
   "cell_type": "code",
   "execution_count": 12,
   "id": "ba279964",
   "metadata": {},
   "outputs": [
    {
     "data": {
      "text/plain": [
       "tensor([[1., 2., 3.],\n",
       "        [1., 2., 3.]], requires_grad=True)"
      ]
     },
     "execution_count": 12,
     "metadata": {},
     "output_type": "execute_result"
    }
   ],
   "source": [
    "x"
   ]
  },
  {
   "cell_type": "code",
   "execution_count": 13,
   "id": "4999dc10",
   "metadata": {},
   "outputs": [],
   "source": [
    "y = 3*x +2"
   ]
  },
  {
   "cell_type": "code",
   "execution_count": 14,
   "id": "74495e25",
   "metadata": {},
   "outputs": [
    {
     "data": {
      "text/plain": [
       "tensor([[ 5.,  8., 11.],\n",
       "        [ 5.,  8., 11.]], grad_fn=<AddBackward0>)"
      ]
     },
     "execution_count": 14,
     "metadata": {},
     "output_type": "execute_result"
    }
   ],
   "source": [
    "y"
   ]
  },
  {
   "cell_type": "code",
   "execution_count": 15,
   "id": "866a4ca7",
   "metadata": {},
   "outputs": [],
   "source": [
    "z = 2*y**2"
   ]
  },
  {
   "cell_type": "code",
   "execution_count": 17,
   "id": "404908de",
   "metadata": {},
   "outputs": [
    {
     "data": {
      "text/plain": [
       "tensor([[ 50., 128., 242.],\n",
       "        [ 50., 128., 242.]], grad_fn=<MulBackward0>)"
      ]
     },
     "execution_count": 17,
     "metadata": {},
     "output_type": "execute_result"
    }
   ],
   "source": [
    "z"
   ]
  },
  {
   "cell_type": "code",
   "execution_count": 18,
   "id": "fda5e430",
   "metadata": {},
   "outputs": [],
   "source": [
    "out = z.mean()"
   ]
  },
  {
   "cell_type": "code",
   "execution_count": 19,
   "id": "a7f4f241",
   "metadata": {},
   "outputs": [
    {
     "data": {
      "text/plain": [
       "tensor(140., grad_fn=<MeanBackward0>)"
      ]
     },
     "execution_count": 19,
     "metadata": {},
     "output_type": "execute_result"
    }
   ],
   "source": [
    "out"
   ]
  },
  {
   "cell_type": "code",
   "execution_count": 20,
   "id": "422b0d80",
   "metadata": {},
   "outputs": [],
   "source": [
    "out.backward()"
   ]
  },
  {
   "cell_type": "code",
   "execution_count": 21,
   "id": "261eaec4",
   "metadata": {},
   "outputs": [
    {
     "data": {
      "text/plain": [
       "tensor([[10., 16., 22.],\n",
       "        [10., 16., 22.]])"
      ]
     },
     "execution_count": 21,
     "metadata": {},
     "output_type": "execute_result"
    }
   ],
   "source": [
    "x.grad"
   ]
  },
  {
   "cell_type": "markdown",
   "id": "7da8e90e",
   "metadata": {},
   "source": [
    "z = 2y^2 , y = 3x + 2\n",
    "\n",
    "z = 18x^2 + 24x + 8\n",
    "\n",
    "z' = 36x + 24\n",
    "\n",
    "x=1 , o'(1) = (36 * 1 + 24)/6 = 10\n",
    "\n",
    "x=2 , o'(2) = (36 * 2 + 24)/6 = 16\n",
    "\n",
    "x=3 , o'(3) = (36 * 3 + 24)/6 = 22"
   ]
  }
 ],
 "metadata": {
  "kernelspec": {
   "display_name": "Python 3",
   "language": "python",
   "name": "python3"
  },
  "language_info": {
   "codemirror_mode": {
    "name": "ipython",
    "version": 3
   },
   "file_extension": ".py",
   "mimetype": "text/x-python",
   "name": "python",
   "nbconvert_exporter": "python",
   "pygments_lexer": "ipython3",
   "version": "3.8.8"
  }
 },
 "nbformat": 4,
 "nbformat_minor": 5
}
