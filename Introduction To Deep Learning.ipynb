{
 "cells": [
  {
   "cell_type": "markdown",
   "metadata": {},
   "source": [
    "# Introduction To Deep Learning"
   ]
  },
  {
   "cell_type": "markdown",
   "metadata": {},
   "source": [
    "### Artificial Intelligence\n",
    "\n",
    "AI is the effor to automate intellectual tasks normally performed by humans.\n",
    "Symbolic AI is hardcoded rules crafted by programmers.\n",
    "\n",
    "<img src=\"img/compare.png\" width=\"300\">"
   ]
  },
  {
   "cell_type": "markdown",
   "metadata": {},
   "source": [
    "### Machine Learning\n",
    "\n",
    "Machine Learninig is an approach of AI.\n",
    "A machine learning system is trained rather than explicitly programmed.\n",
    "\n",
    "Unlike statistics, machine learning tends to deal with large complex datasets.Machine Learning ans especially deep learning, exhibits comparatively little mathematical theory, and is engineering oriented.\n",
    "\n",
    "To do machine learning, we need three things.\n",
    "1. Input data points\n",
    "2. Examples of the expected output.\n",
    "3. A way to mearure weather the algorithm is doing a good job\n",
    "\n",
    "The central problem in machine learning and deep learning is to meaningfully transform data ie. to learn useful representation of input data at hand.\n",
    "\n",
    "Learning in the context of machine learning, describes an automatic search process of better representations.\n",
    "\n",
    "Machine learning algorithms are not usually creative in finding these transformations, they are mearly searching through a predefined set of operations, called a hypothesis space.\n",
    "\n",
    "Machine learning is, technically: searching for useful representations of some input data, within a predefined space of possibilites using guidance from feedback signal."
   ]
  },
  {
   "cell_type": "markdown",
   "metadata": {},
   "source": [
    "### Deep Learning\n",
    "\n",
    "Deep learning puts emphasis on learning successive layers of increasingly meaningful representations.\n",
    "\n",
    "How many layers contribute to the model is called the depth of the model.\n",
    "\n",
    "Deep learning is, technically: a multistage way to learn data representations.\n",
    "\n",
    "<img src=\"img/nn-layers.png\" >\n",
    "\n",
    "The transformation implemented by a layer is parameteriezed by its weights.\n",
    "\n",
    "Learning means finding a set of values for the weights of all layers in a network.\n",
    "\n",
    "<img src=\"img/nn-weights.png\" width= \"500px\">\n",
    "\n",
    "The loss function, also called the ojective function, takes the predictions of the network and the true target and computes a distance score, captureing how well the network had sone on this specific example.\n",
    "\n",
    "<img src=\"img/nn-loss.png\"  width= \"500px\">\n",
    "\n",
    "The loss score is used as a feedback signal to adjust the value of the weights a little, in a direction that will lower the loss score for the current example.\n",
    "\n",
    "The adjustment is the job of the optimizer, which implements Backpropogation algorithm.\n",
    "\n",
    "The training loop repeated a sufficient number of times, yields weight values that minimize the loss function.\n",
    "\n",
    "<img src=\"img/nn-loss-score.png\"  width= \"500px\">\n",
    "\n",
    "The two essential characteristics of how deep learning learns from data:\n",
    "1. Incremental, layer-by-layer way in which increasingly complex representations are developed.\n",
    "2. These intermediate incremental representations are learned jointly.\n",
    "\n",
    "\n",
    "Three technical forces driving advances in machine learning:\n",
    "1. Hardware\n",
    "2. Dataset and benchmarks\n",
    "3. Algorithmic advances\n"
   ]
  }
 ],
 "metadata": {
  "kernelspec": {
   "display_name": "Python 3",
   "language": "python",
   "name": "python3"
  },
  "language_info": {
   "codemirror_mode": {
    "name": "ipython",
    "version": 3
   },
   "file_extension": ".py",
   "mimetype": "text/x-python",
   "name": "python",
   "nbconvert_exporter": "python",
   "pygments_lexer": "ipython3",
   "version": "3.8.5"
  }
 },
 "nbformat": 4,
 "nbformat_minor": 4
}
